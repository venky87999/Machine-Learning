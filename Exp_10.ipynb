{
  "nbformat": 4,
  "nbformat_minor": 0,
  "metadata": {
    "colab": {
      "provenance": [],
      "authorship_tag": "ABX9TyOAHGbdiVpo4eKuWik6CIsR",
      "include_colab_link": true
    },
    "kernelspec": {
      "name": "python3",
      "display_name": "Python 3"
    },
    "language_info": {
      "name": "python"
    }
  },
  "cells": [
    {
      "cell_type": "markdown",
      "metadata": {
        "id": "view-in-github",
        "colab_type": "text"
      },
      "source": [
        "<a href=\"https://colab.research.google.com/github/venky87999/Machine-Learning/blob/main/Exp_10.ipynb\" target=\"_parent\"><img src=\"https://colab.research.google.com/assets/colab-badge.svg\" alt=\"Open In Colab\"/></a>"
      ]
    },
    {
      "cell_type": "code",
      "execution_count": null,
      "metadata": {
        "id": "wVhKvZqzMEi_"
      },
      "outputs": [],
      "source": [
        "from joblib.numpy_pickle_utils import xrange\n",
        "from numpy import *"
      ]
    },
    {
      "cell_type": "code",
      "source": [
        "from google.colab import drive\n",
        "drive.mount('/content/drive')"
      ],
      "metadata": {
        "id": "gzGS6wSuMkNN"
      },
      "execution_count": null,
      "outputs": []
    },
    {
      "cell_type": "code",
      "source": [
        "from joblib.numpy_pickle_utils import xrange\n",
        "from numpy import *"
      ],
      "metadata": {
        "id": "1xNYe7LHMngP"
      },
      "execution_count": null,
      "outputs": []
    },
    {
      "cell_type": "code",
      "source": [
        "class NeuralNet(object):\n",
        "  def __init__(self):\n",
        "    random.seed(1)\n",
        "    self.synaptic_weights = 2 * random.random((3, 1)) - 1\n",
        "  def __sigmoid(self, x):\n",
        "    return 1 / (1 + exp(-x))\n",
        "  def __sigmoid_derivative(self, x):\n",
        "    return x * (1 - x)\n",
        "  def train(self, inputs, outputs, training_iterations):\n",
        "    for iteration in xrange(training_iterations):\n",
        "      output = self.learn(inputs)\n",
        "      error = outputs - output\n",
        "      factor = dot(inputs.T, error * self.__sigmoid_derivative(output))\n",
        "      self.synaptic_weights += factor\n",
        "  def learn(self, inputs):\n",
        "    return self.__sigmoid(dot(inputs, self.synaptic_weights))\n",
        "if __name__ == \"__main__\":\n",
        "  neural_network = NeuralNet()\n",
        "  inputs = array([[0, 1, 1], [1, 0, 0], [1, 0, 1]])\n",
        "  outputs = array([[1, 0, 1]]).T\n",
        "  neural_network.train(inputs, outputs, 10000)\n",
        "  print(neural_network.learn(array([1, 0, 1])))"
      ],
      "metadata": {
        "colab": {
          "base_uri": "https://localhost:8080/"
        },
        "id": "tLoCGVcqMpYP",
        "outputId": "35c202b3-e21a-40e4-b040-1a3a70da1b75"
      },
      "execution_count": null,
      "outputs": [
        {
          "output_type": "stream",
          "name": "stdout",
          "text": [
            "[0.9897704]\n"
          ]
        }
      ]
    },
    {
      "cell_type": "code",
      "source": [],
      "metadata": {
        "id": "Rkfssl9PM8DO"
      },
      "execution_count": null,
      "outputs": []
    }
  ]
}